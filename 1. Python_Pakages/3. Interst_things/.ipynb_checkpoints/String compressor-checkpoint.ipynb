{
 "cells": [
  {
   "cell_type": "markdown",
   "metadata": {},
   "source": [
    "# 문자열 압축기"
   ]
  },
  {
   "cell_type": "markdown",
   "metadata": {},
   "source": [
    "- 문자열을 입력 받아 같은 문자가 연속적으로 반복되는 경우에 그 반복 횟수를 표시하여 문자열을 압축하여 표시해줍니다.\n",
    "- 입력 예시: aaabbcccccca\n",
    "- 출력 예시: a3b2c6a1"
   ]
  },
  {
   "cell_type": "markdown",
   "metadata": {},
   "source": [
    "#### 스트링을 입력해주면 리스트로 출력해주는 함수 정의."
   ]
  },
  {
   "cell_type": "code",
   "execution_count": 1,
   "metadata": {},
   "outputs": [],
   "source": [
    "def str_to_ls(string):\n",
    "    Input_list = []\n",
    "    for i in string:\n",
    "        Input_list.append(i)\n",
    "    return Input_list"
   ]
  },
  {
   "cell_type": "code",
   "execution_count": 2,
   "metadata": {},
   "outputs": [
    {
     "name": "stdout",
     "output_type": "stream",
     "text": [
      "압축하고 싶은 문자열을 입력하세요 ex)aaabbcccdd : aaeeeeeeccccdddeww\n",
      "aaeeeeeeccccdddeww은 a2e6c4d3e1w2로 압축이 됩니다.\n"
     ]
    }
   ],
   "source": [
    "input_str = input(\"압축하고 싶은 문자열을 입력하세요 ex)aaabbcccdd : \")  # 입력\n",
    "# string을 list로 변환하기\n",
    "input_list = str_to_ls(input_str)\n",
    "# 압축하기\n",
    "result = []\n",
    "count = 1\n",
    "for i in range(len(input_list)):\n",
    "    if i == len(input_list)-1:   #마지막 숫자에 도달하면\n",
    "        result.append(input_list[i]) #마지막 알파벳 추가\n",
    "        result.append(str(count))  #count 추가\n",
    "        break\n",
    "    elif input_list[i] == input_list[i+1]: # i번째 숫자와 다음 숫자가 같을 시 count만 올리기.\n",
    "        count += 1\n",
    "    else:\n",
    "        result.append(input_list[i])   # i번째 숫자와 다음 숫자가 다를 시 숫자 세던 것 멈추고 result에 카운트한 결과들 추가.\n",
    "        result.append(str(count))\n",
    "        count = 1   # count 리셋\n",
    "    \n",
    "print( \"{}은 \".format(input_str) + ''.join(result) + \"로 압축이 됩니다.\")"
   ]
  }
 ],
 "metadata": {
  "kernelspec": {
   "display_name": "Python 3",
   "language": "python",
   "name": "python3"
  },
  "language_info": {
   "codemirror_mode": {
    "name": "ipython",
    "version": 3
   },
   "file_extension": ".py",
   "mimetype": "text/x-python",
   "name": "python",
   "nbconvert_exporter": "python",
   "pygments_lexer": "ipython3",
   "version": "3.6.8"
  }
 },
 "nbformat": 4,
 "nbformat_minor": 2
}
