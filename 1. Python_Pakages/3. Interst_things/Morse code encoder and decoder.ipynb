{
 "cells": [
  {
   "cell_type": "markdown",
   "metadata": {},
   "source": [
    "- 모스부호를 암호화하고 해독하는 프로그램입니다.\n",
    "- 문자열 형식으로 입력받은 모스 부호(dot: . dash:-)를 암호화하는 Encode 함수가 있습니다.\n",
    "- 문자열에서 모스부호로 바꿀 때, 글자와 글자 사이는 공백 하나, 단어와 단어 사이는 공백 두개로 구분합니다.\n",
    "- 모스부호를 해독하는 Decode함수가 잇습니다."
   ]
  },
  {
   "cell_type": "code",
   "execution_count": 1,
   "metadata": {},
   "outputs": [],
   "source": [
    "#모스부호 처리하는 클래스\n",
    "\n",
    "class Morse:\n",
    "\n",
    "    #모스부호 데이터 전처리해서 딕셔너리로 만들기\n",
    "\n",
    "    def dic_morse(self):\n",
    "        morse1 = 'A .- B -... C -.-. D -.. E . F ..-. G --. H .... I .. J .--- K -.- L .-.. M -- N -. O --- P .--. '\n",
    "        morse2 = 'Q --.- R .-. S ... T - U ..- V ...- W .-- X -..- Y -.-- Z --..' #모스부호들 정보 가져오기\n",
    "        morse = morse1 + morse2\n",
    "        morse_list = morse.split(\" \")\n",
    "        key = []\n",
    "        value = []\n",
    "        for i in range(len(morse_list)):\n",
    "            if i%2 == 0:\n",
    "                key.append(morse_list[i]) #moss에서 짝수면 키로 홀수면 값의 집합으로.\n",
    "            else:\n",
    "                value.append(morse_list[i])\n",
    "        return {'encode' : dict(zip(key, value)), 'decode' : dict(zip(value, key))} #분류한것들 딕셔너리로 넣기.\n",
    "\n",
    "    def Encode(self, string):\n",
    "        \n",
    "        input_str_up = string.upper() # 인코딩하려는 스트링을 모두 대문자로 바꾸기.\n",
    "        result = ''\n",
    "    \n",
    "        for key in input_str_up:  \n",
    "            if key == \" \":   # 띄어쓰기는 두개띄어쓰기로 변형\n",
    "                result += '  '\n",
    "            else:\n",
    "                result = result + self.dic_morse()['encode'][str(key)] + ' '  #알파벳은 모스부호로 바꾸고 그 뒤에 띄어쓰기 하기E\n",
    "        \n",
    "        return result\n",
    "    \n",
    "    def Decode(self, string):\n",
    "        \n",
    "        input_str_split = string.split('  ')\n",
    "        result = ''\n",
    "    \n",
    "        for i in range(len(input_str_split)):\n",
    "            input_str_split2 = input_str_split[i].split(' ')\n",
    "            for key in input_str_split2:  \n",
    "                if key == '':\n",
    "                    result += ' '\n",
    "                elif key in self.dic_morse()['decode']:\n",
    "                    result = result + self.dic_morse()['decode'][str(key)]  #알파벳은 모스부호로 바꾸고 그 뒤에 띄어쓰기 하기\n",
    "                else:\n",
    "                    result = result + \"'error'\" + ' '\n",
    "        return result"
   ]
  },
  {
   "cell_type": "code",
   "execution_count": 2,
   "metadata": {},
   "outputs": [
    {
     "data": {
      "text/plain": [
       "'.... . .-.. .-.. ---   .--. -.-- - .... --- -. '"
      ]
     },
     "execution_count": 2,
     "metadata": {},
     "output_type": "execute_result"
    }
   ],
   "source": [
    "#모스부호 암호화 체크\n",
    "morse = Morse()\n",
    "\n",
    "#moss.dic_moss()['decode']\n",
    "morse.Encode('Hello Python')"
   ]
  },
  {
   "cell_type": "code",
   "execution_count": 3,
   "metadata": {},
   "outputs": [
    {
     "data": {
      "text/plain": [
       "'HELLO PYTHON '"
      ]
     },
     "execution_count": 3,
     "metadata": {},
     "output_type": "execute_result"
    }
   ],
   "source": [
    "#모스부호 해독기 체크\n",
    "morse.Decode(_)"
   ]
  },
  {
   "cell_type": "code",
   "execution_count": null,
   "metadata": {},
   "outputs": [],
   "source": []
  }
 ],
 "metadata": {
  "kernelspec": {
   "display_name": "Python 3",
   "language": "python",
   "name": "python3"
  },
  "language_info": {
   "codemirror_mode": {
    "name": "ipython",
    "version": 3
   },
   "file_extension": ".py",
   "mimetype": "text/x-python",
   "name": "python",
   "nbconvert_exporter": "python",
   "pygments_lexer": "ipython3",
   "version": "3.6.5"
  }
 },
 "nbformat": 4,
 "nbformat_minor": 2
}
