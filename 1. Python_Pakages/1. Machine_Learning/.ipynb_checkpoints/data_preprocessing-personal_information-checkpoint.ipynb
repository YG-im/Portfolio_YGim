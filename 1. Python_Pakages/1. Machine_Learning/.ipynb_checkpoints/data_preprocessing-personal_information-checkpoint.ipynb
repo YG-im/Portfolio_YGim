{
 "cells": [
  {
   "cell_type": "markdown",
   "metadata": {},
   "source": [
    "- python의 regex 기능을 활용하여 크롤링된 데이터에서 개인정보를 추출하는 프로그램입니다.\n",
    "- 참고 : \n",
    "    - `[]`: 문자\n",
    "    - `-` : 범위\n",
    "    - `.` : 하나의 문자\n",
    "    - `?` : 0회 또는 1회 반복 \n",
    "    - `*` : 0회 이상 반복\n",
    "    - `+` : 1회 이상 반복\n",
    "    - `{m,n}` : m~n회 반복\n",
    "    - `()` : 그룹핑"
   ]
  },
  {
   "cell_type": "markdown",
   "metadata": {},
   "source": [
    "# 1. 개인정보 추출용 프로그램 단계별 코드"
   ]
  },
  {
   "cell_type": "code",
   "execution_count": 28,
   "metadata": {},
   "outputs": [],
   "source": [
    "import re\n",
    "import numpy as np"
   ]
  },
  {
   "cell_type": "markdown",
   "metadata": {},
   "source": [
    "- 여러가지 개인정보가 담겨있는 문자열을 입력해줍니다."
   ]
  },
  {
   "cell_type": "code",
   "execution_count": 124,
   "metadata": {},
   "outputs": [],
   "source": [
    "s = \"저의 이메일 주소는 pdj1224@gmail.com 입니다. 또한 radajin_1224@gmail.com 도 가지고 있습니다. 저의 주민번호는 761이11-1영이삼334 입니다.\\\n",
    "안녕하세요, 저의 전화번호는 영일공-48구삼삼7이사 그리고 010사팔구삼삼구삼일 입니다. 둘중에 하나로 연락하세요\""
   ]
  },
  {
   "cell_type": "markdown",
   "metadata": {},
   "source": [
    "- 이메일, 전화번호, 주민등록번호의 패턴입니다."
   ]
  },
  {
   "cell_type": "code",
   "execution_count": 204,
   "metadata": {},
   "outputs": [],
   "source": [
    "patt_email = \"[0-9a-zA-Z_]+@[a-zA-Z]+\\.[a-zA-Z]+\"\n",
    "patt_resid = \"[0-9영공일이둘삼사오육칠팔구빵oO]{6}[-]?[1-4일이둘삼사]{1}[0-9영공일이둘삼사오육칠팔구빵oO]{6}\"\n",
    "patt_phone_num = \"[01영공일빵oO]{3}[-]?[0-9영공일이둘삼사오육칠팔구빵oO]{3,4}[-]?[0-9영공일이둘삼사오육칠팔구빵oO]{4}\"\n",
    "#patt_phone_num = \"[0-9영공일이둘삼사오육칠팔구빵oO]{2,3}[-]?[0-9영공일이둘삼사오육칠팔구빵oO]{3,4}[-]?[0-9영공일이둘삼사오육칠팔구빵oO]{4}\""
   ]
  },
  {
   "cell_type": "markdown",
   "metadata": {},
   "source": [
    "- 글자를 숫자로 변환하기 위한 dictionary입니다."
   ]
  },
  {
   "cell_type": "code",
   "execution_count": 118,
   "metadata": {},
   "outputs": [],
   "source": [
    "num_dic = {'영' : '0', '공' : '0', '일' :'1', '이' : '2', '둘' : '2', '삼' : '3', '사' : '4', '오' : '5', '육' : '6', '칠' : '7', '팔' : '8', '구' : '9', '빵' : '0',\\\n",
    "           'o' : '0', 'O' : \"0\", '-' : '-', '0' : '0', '1' :'1', '2':'2', '3':'3', '4':'4', '5':'5', '6':'6', '7':'7', '8':'8', '9':'9'}"
   ]
  },
  {
   "cell_type": "markdown",
   "metadata": {},
   "source": [
    "- 이메일, 주민등록 번호와 전화번호를 추출해줍니다. "
   ]
  },
  {
   "cell_type": "code",
   "execution_count": 205,
   "metadata": {},
   "outputs": [],
   "source": [
    "email_ls = re.findall(patt_email,s) #이메일 처리 완료\n",
    "resid_num_raw = re.findall(patt_resid,s)    #주민등록번호  #후처리 필요\n",
    "phone_num_raw = re.findall(patt_phone_num, s) #전화번호 #후처리 필요"
   ]
  },
  {
   "cell_type": "code",
   "execution_count": 206,
   "metadata": {},
   "outputs": [
    {
     "data": {
      "text/plain": [
       "['영일공-48구삼삼7이사', '010사팔구삼삼구삼일']"
      ]
     },
     "execution_count": 206,
     "metadata": {},
     "output_type": "execute_result"
    }
   ],
   "source": [
    "phone_num_raw   #전화번호와 주민번호를 구별하는 것은 어찌해야하지? 전화 번호 패턴을 "
   ]
  },
  {
   "cell_type": "markdown",
   "metadata": {},
   "source": [
    "**cf) 전화번호와 주민번호를 구별하는 것은 어찌해야하지? **\n",
    "- 전화 번호 패턴을 앞에 세자리가 0또는 1만 나오는 경우로 분류. 010 또는 011 이므로"
   ]
  },
  {
   "cell_type": "markdown",
   "metadata": {},
   "source": [
    "- 글자와 숫자로 얽혀있는 주민번호와 전화번호를 숫자로 변경해줍니다."
   ]
  },
  {
   "cell_type": "code",
   "execution_count": 155,
   "metadata": {},
   "outputs": [
    {
     "name": "stdout",
     "output_type": "stream",
     "text": [
      "['761211-1023', '010-48933724', '01048933931']\n",
      "['761211-1******']\n"
     ]
    }
   ],
   "source": [
    "phone_num = []\n",
    "resid_num = []\n",
    "\n",
    "for i in range(len(phone_num_raw)):  #전화번호를 숫자로 변환\n",
    "    result = ''\n",
    "    try:\n",
    "        for num in phone_num_raw[i]:\n",
    "            result += num_dic['{}'.format(num)]\n",
    "    except Exception as e:    #오류나면 메세지 호출\n",
    "        print(e)#'error')\n",
    "    phone_num.append(result)\n",
    "print(phone_num)\n",
    "\n",
    "for i in range(len(resid_num_raw)): #주민번호를 숫자로 변환\n",
    "    result = ''\n",
    "    try:\n",
    "        for num in resid_num_raw[i]:\n",
    "            result += num_dic['{}'.format(num)]\n",
    "    except Exception as e:   #오류나면 메세지 호출\n",
    "        print(e)#'error')\n",
    "    result = re.sub(\"([0-9]{6})-?([1-4]{1})([0-9]{6})\", \"\\g<1>\"+'-'+'\\g<2>'+'******', result)    # 주민번호 뒷번호 블라인드처리\n",
    "    resid_num.append(result)\n",
    "print(resid_num)    "
   ]
  },
  {
   "cell_type": "markdown",
   "metadata": {},
   "source": [
    "### 입력된 스트링에서 추출된 정보들은 다음과 같습니다."
   ]
  },
  {
   "cell_type": "code",
   "execution_count": 152,
   "metadata": {
    "scrolled": true
   },
   "outputs": [
    {
     "name": "stdout",
     "output_type": "stream",
     "text": [
      " email :  ['pdj1224@gmail.com', 'radajin_1224@gmail.com'] \n",
      " phone number:  ['010-4893-3724', '010-4893-3931'] \n",
      " resident number:  ['761211-1******']\n"
     ]
    }
   ],
   "source": [
    "print(\" email : \", email_ls, \"\\n\", \"phone number: \", phone_num,  \"\\n\", \"resident number: \", resid_num)"
   ]
  },
  {
   "cell_type": "markdown",
   "metadata": {},
   "source": [
    "# 2. 하나의 Class로 만들기"
   ]
  },
  {
   "cell_type": "code",
   "execution_count": 201,
   "metadata": {},
   "outputs": [],
   "source": [
    "class ExtractInf():\n",
    "\n",
    "    def __init__(self, string):\n",
    "        self.str = string\n",
    "        self.patt_email = \"[0-9a-zA-Z_]+@[a-zA-Z]+\\.[a-zA-Z]+\"\n",
    "        self.patt_phone_num = \"[01영공일빵oO]{3}[-]?[0-9영공일이둘삼사오육칠팔구빵oO]{3,4}[-]?[0-9영공일이둘삼사오육칠팔구빵oO]{4}\"\n",
    "        self.patt_resid = \"[0-9영공일이둘삼사오육칠팔구빵oO]{6}-?[1-4일이둘삼사]{1}[0-9영공일이둘삼사오육칠팔구빵oO]{6}\"\n",
    "        self.num_dic = {'영' : '0', '공' : '0', '일' :'1', '이' : '2', '둘' : '2', '삼' : '3', '사' : '4', '오' : '5', '육' : '6', '칠' : '7', '팔' : '8', '구' : '9', '빵' : '0',\\\n",
    "                        'o' : '0', 'O' : \"0\", '-' : '-', '0' : '0', '1' :'1', '2':'2', '3':'3', '4':'4', '5':'5', '6':'6', '7':'7', '8':'8', '9':'9'}\n",
    "   \n",
    "    def  email(self):\n",
    "        email_ls = re.findall(self.patt_email, self.str) #이메일 처리 완료\n",
    "        return email_ls\n",
    "\n",
    "    def resid(self):\n",
    "        resid_num_raw = re.findall(self.patt_resid, self.str)    #주민등록번호  #후처리 필요\n",
    "        resid_num = []\n",
    "        for i in range(len(resid_num_raw)): #주민번호를 숫자로 변환\n",
    "            result = ''\n",
    "            try:\n",
    "                for num in resid_num_raw[i]:\n",
    "                    result += self.num_dic['{}'.format(num)]\n",
    "            except Exception as e:   #오류나면 메세지 호출\n",
    "                print(e)#'error')\n",
    "            result = re.sub(\"([0-9]{6})-?([1-4]{1})([0-9]{6})\", \"\\g<1>\"+'-'+'\\g<2>'+'******', result)    # 주민번호 뒷번호 블라인드처리\n",
    "            resid_num.append(result)\n",
    "        return resid_num\n",
    "\n",
    "    def phone(self):\n",
    "        phone_num_raw = re.findall(self.patt_phone_num, self.str) #전화번호 #후처리 필요\n",
    "        phone_num = []\n",
    "        for i in range(len(phone_num_raw)):  #전화번호를 숫자로 변환\n",
    "            result = ''\n",
    "            try:\n",
    "                for num in phone_num_raw[i]:\n",
    "                    result += self.num_dic['{}'.format(num)]\n",
    "            except Exception as e:    #오류나면 메세지 호출\n",
    "                print(e)#'error')\n",
    "            phone_num.append(result)\n",
    "        return phone_num\n",
    "\n",
    "\n",
    "\n"
   ]
  },
  {
   "cell_type": "code",
   "execution_count": 202,
   "metadata": {},
   "outputs": [],
   "source": [
    "extract = ExtractInf(s)"
   ]
  },
  {
   "cell_type": "code",
   "execution_count": 203,
   "metadata": {},
   "outputs": [
    {
     "data": {
      "text/plain": [
       "['010-48933724', '01048933931']"
      ]
     },
     "execution_count": 203,
     "metadata": {},
     "output_type": "execute_result"
    }
   ],
   "source": [
    "extract.phone()"
   ]
  },
  {
   "cell_type": "code",
   "execution_count": null,
   "metadata": {},
   "outputs": [],
   "source": []
  }
 ],
 "metadata": {
  "kernelspec": {
   "display_name": "Python 3",
   "language": "python",
   "name": "python3"
  },
  "language_info": {
   "codemirror_mode": {
    "name": "ipython",
    "version": 3
   },
   "file_extension": ".py",
   "mimetype": "text/x-python",
   "name": "python",
   "nbconvert_exporter": "python",
   "pygments_lexer": "ipython3",
   "version": "3.6.5"
  }
 },
 "nbformat": 4,
 "nbformat_minor": 2
}
