{
 "cells": [
  {
   "cell_type": "markdown",
   "metadata": {},
   "source": [
    "# Vending machine"
   ]
  },
  {
   "cell_type": "markdown",
   "metadata": {},
   "source": [
    "- 자판기 시뮬레이션 프로그램입니다. \n",
    "- 이 자판기는 총 10잔의 커피를 판매할 수 있습니다.\n",
    "- 커피 한잔에 300원입니다."
   ]
  },
  {
   "cell_type": "code",
   "execution_count": 1,
   "metadata": {},
   "outputs": [
    {
     "name": "stdout",
     "output_type": "stream",
     "text": [
      "돈을 넣어주세요:100\n",
      "돈이 200원 부족합니다.\n",
      "돈을 200원 더 넣어주세요:400\n",
      "커피가 나왔습니다. 거스름돈은 200원 입니다.\n",
      "남은 커피는 9잔입니다.\n",
      "돈을 넣어주세요:600\n",
      "커피가 나왔습니다. 거스름돈은 300원 입니다.\n",
      "남은 커피는 8잔입니다.\n",
      "돈을 넣어주세요:300\n",
      "커피가 나왔습니다.\n",
      "남은 커피는 7잔입니다.\n",
      "돈을 넣어주세요:400\n",
      "커피가 나왔습니다. 거스름돈은 100원 입니다.\n",
      "남은 커피는 6잔입니다.\n",
      "돈을 넣어주세요:61000\n",
      "커피가 나왔습니다. 거스름돈은 60700원 입니다.\n",
      "남은 커피는 5잔입니다.\n",
      "돈을 넣어주세요:100\n",
      "돈이 200원 부족합니다.\n",
      "돈을 200원 더 넣어주세요:300\n",
      "커피가 나왔습니다. 거스름돈은 100원 입니다.\n",
      "남은 커피는 4잔입니다.\n",
      "돈을 넣어주세요:400\n",
      "커피가 나왔습니다. 거스름돈은 100원 입니다.\n",
      "남은 커피는 3잔입니다.\n",
      "돈을 넣어주세요:300\n",
      "커피가 나왔습니다.\n",
      "남은 커피는 2잔입니다.\n",
      "돈을 넣어주세요:500\n",
      "커피가 나왔습니다. 거스름돈은 200원 입니다.\n",
      "남은 커피는 1잔입니다.\n",
      "돈을 넣어주세요:700\n",
      "커피가 나왔습니다. 거스름돈은 400원 입니다.\n",
      "남은 커피는 0잔입니다.\n",
      "Sold out\n"
     ]
    }
   ],
   "source": [
    "\n",
    "coffee=10\n",
    "\n",
    "while True:\n",
    "    money=int(input(\"돈을 넣어주세요:\"))\n",
    "    if money==300:\n",
    "        print(\"커피가 나왔습니다.\")\n",
    "        coffee=coffee-1\n",
    "        print(\"남은 커피는 %s잔입니다.\"%coffee)\n",
    "    elif money>300:\n",
    "        print(\"커피가 나왔습니다. 거스름돈은 %s원 입니다.\"%(money-300))\n",
    "        coffee=coffee-1\n",
    "        print(\"남은 커피는 %s잔입니다.\"%coffee)\n",
    "    else:\n",
    "        print(\"돈이 %s원 부족합니다.\"%(300-money))\n",
    "    while money<300:\n",
    "        money1=int(input(\"돈을 %s원 더 넣어주세요:\"%(300-money)))\n",
    "        money=money+money1\n",
    "        if money==300:\n",
    "            print(\"커피가 나왔습니다.\")\n",
    "            coffee=coffee-1\n",
    "            print(\"남은 커피는 %s잔입니다.\"%coffee)\n",
    "        elif money>300:\n",
    "            print(\"커피가 나왔습니다. 거스름돈은 %s원 입니다.\"%(money-300))\n",
    "            coffee=coffee-1\n",
    "            print(\"남은 커피는 %s잔입니다.\"%coffee)\n",
    "    if not coffee:\n",
    "        print(\"Sold out\")\n",
    "        break"
   ]
  },
  {
   "cell_type": "code",
   "execution_count": null,
   "metadata": {},
   "outputs": [],
   "source": []
  }
 ],
 "metadata": {
  "kernelspec": {
   "display_name": "Python 3",
   "language": "python",
   "name": "python3"
  },
  "language_info": {
   "codemirror_mode": {
    "name": "ipython",
    "version": 3
   },
   "file_extension": ".py",
   "mimetype": "text/x-python",
   "name": "python",
   "nbconvert_exporter": "python",
   "pygments_lexer": "ipython3",
   "version": "3.6.8"
  }
 },
 "nbformat": 4,
 "nbformat_minor": 2
}
