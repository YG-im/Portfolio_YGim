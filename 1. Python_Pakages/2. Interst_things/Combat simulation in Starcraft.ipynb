{
 "cells": [
  {
   "cell_type": "markdown",
   "metadata": {},
   "source": [
    "# 스타그래프트 전투 시뮬레이션\n",
    "- 마린의 체력은 50, 메딕의 체력은 20입니다.\n",
    "- 마린끼리 전투를 할 수 있고, 마린의 공격력은 5로 디폴트되어있습니다. 원할시 업그레이드 가능합니다.\n",
    "- 메딕은 마린을 치료할 수 있고 한번에 6씩 치료가 가능합니다.\n",
    " "
   ]
  },
  {
   "cell_type": "code",
   "execution_count": 40,
   "metadata": {},
   "outputs": [],
   "source": [
    "class Human:  #사람에 대해 정의하는 클래스.\n",
    "    \n",
    "    def __init__(self):\n",
    "        self.health = 50  #체력 디폴트값 설정.\n",
    "\n",
    "    def set_health(self, var):\n",
    "        self.health += var #공격 및 힐에 따른 체력 증감을 반영해주는 수식."
   ]
  },
  {
   "cell_type": "code",
   "execution_count": 41,
   "metadata": {},
   "outputs": [],
   "source": [
    "class Marin(Human):\n",
    "    \n",
    "    def __init__(self, attack_power = 5, kill = 0): #attack_power에 디폴트값줌.\n",
    "        super().__init__() #Human의 init을 가져온다. 이거 아니면 변수 다시 다 적어줘야하니..\n",
    "        self.attack_power = attack_power\n",
    "        self.kill = kill\n",
    "        \n",
    "    def stimpack(self): #체력이 1/3으로 깍인다. 공격력이 2배로 증가.\n",
    "        self.health = self.health//3\n",
    "        self.attack_power = 2 * self.attack_power\n",
    "        \n",
    "    def attack(self, unit): #괄호에입력한 유닛의 체력을 깍는다.\n",
    "        \n",
    "        if unit.health == 0:  # 유닛 클래스에 health를 불러와서 체력 확인.\n",
    "            return \"aleady die!\"\n",
    "        \n",
    "        unit.set_health(-self.attack_power)  #unit 클래스에서 상속한 human클래스의 set_health함수를 통해 어택만큼 깍는다.\n",
    "        \n",
    "        if unit.health <= 0:\n",
    "            unit.health = 0\n",
    "            self.kill += 1   # 유닛 죽이면 킬수 하나 올려준다.\n",
    "            return \"die\" # killed\n",
    "        \n",
    "        return \"health:{}\".format(unit.health) # alive #\"alive [health:{}]\""
   ]
  },
  {
   "cell_type": "code",
   "execution_count": 35,
   "metadata": {},
   "outputs": [],
   "source": [
    "class Medic(Human):\n",
    "    \n",
    "    def __init__(self):\n",
    "        self.health = 20   #메딕의 체력은 마린보다 낮게 설정.\n",
    "        self.heal_power = 6 #메딕의 힐 파워 설정.\n",
    "    \n",
    "    def heal(self, unit):\n",
    "        \n",
    "        if unit.health == 0:\n",
    "            print(\"aleady die!\")  #치료하려는 유닛의 헬스가 0이면 죽었다고 표시한다.\n",
    "            return\n",
    "        \n",
    "        unit.set_health(self.heal_power)\n",
    "        \n",
    "        if unit.health > 40:\n",
    "            unit.health = 40"
   ]
  },
  {
   "cell_type": "code",
   "execution_count": 50,
   "metadata": {},
   "outputs": [],
   "source": [
    "# 유닛 생산.\n",
    "marin1 = Marin()\n",
    "marin2 = Marin()\n",
    "medic = Medic()\n",
    "\n",
    "# marin1.health, marin2.health, medic.health #마린 메딕들 체력\n",
    "# marin1.stimpack() #마린1의 체력 1/3, 공격력 2배 증가.\n",
    "# marin1.attack(marin2) #마린1이 마린2 공격\n",
    "# medic.heal(marin1) #메딕이 마린 힐"
   ]
  },
  {
   "cell_type": "code",
   "execution_count": 51,
   "metadata": {},
   "outputs": [
    {
     "name": "stdout",
     "output_type": "stream",
     "text": [
      "2번째 공격 :  ['health:45', 'health:45']\n",
      "3번째 공격 :  ['health:40', 'health:40']\n",
      "4번째 공격 :  ['health:30', 'health:8']\n",
      "5번째 공격 :  ['health:20', 'health:3']\n",
      "6번째 공격 :  ['health:10', 'die']\n"
     ]
    }
   ],
   "source": [
    "#마린1과 마린2의 전투 시뮬레이션, 중간에 마린1은 스팀팩을 먹는다.\n",
    "\n",
    "i = 1\n",
    "\n",
    "while True:\n",
    "\n",
    "    war_result = []\n",
    "\n",
    "    marin1_health = marin1.attack(marin2)\n",
    "    marin2_health = marin2.attack(marin1)\n",
    "\n",
    "    war_result.append(marin1_health)\n",
    "    war_result.append(marin2_health)\n",
    "    i += 1\n",
    "    \n",
    "    print(\"{}번째 공격 : \".format(i), war_result)\n",
    "    \n",
    "    if 'health:40' == marin1_health: #마린1은 체력이 40이 되면 메딕에게 1회 치료 받고 스팀팩을 먹는다.\n",
    "        #medic.heal(marin1)\n",
    "        marin1.stimpack()\n",
    "    elif \"die\" in war_result:\n",
    "        break\n",
    "    else:\n",
    "        continue"
   ]
  },
  {
   "cell_type": "code",
   "execution_count": null,
   "metadata": {},
   "outputs": [],
   "source": []
  }
 ],
 "metadata": {
  "kernelspec": {
   "display_name": "Python 3",
   "language": "python",
   "name": "python3"
  },
  "language_info": {
   "codemirror_mode": {
    "name": "ipython",
    "version": 3
   },
   "file_extension": ".py",
   "mimetype": "text/x-python",
   "name": "python",
   "nbconvert_exporter": "python",
   "pygments_lexer": "ipython3",
   "version": "3.6.5"
  }
 },
 "nbformat": 4,
 "nbformat_minor": 2
}
