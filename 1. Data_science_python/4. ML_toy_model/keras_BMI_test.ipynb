{
 "cells": [
  {
   "cell_type": "markdown",
   "metadata": {},
   "source": [
    "# Keras를 활용한 BMI test ML\n",
    "- keras 패키지를 이용하여 BMI를 판단하는 머신러닝입니다.\n",
    "- 'data_set/bmi.csv'에 있는 BMI 정보로 훈련을 시킵니다.\n",
    "- 몸무게(weight)와 키(height)를 입력하면 마름(thin), 정상(normal), 뚱뚱함(fat)을 판단해줍니다."
   ]
  },
  {
   "cell_type": "code",
   "execution_count": 2,
   "metadata": {},
   "outputs": [],
   "source": [
    "#keras 패키지 import\n",
    "from keras.models import Sequential\n",
    "from keras.layers.core import Dense, Dropout, Activation\n",
    "from keras.callbacks import EarlyStopping\n",
    "# pandas와 numpy \n",
    "import pandas as pd, numpy as np"
   ]
  },
  {
   "cell_type": "markdown",
   "metadata": {},
   "source": [
    "### 1. 머신을 돌리기전에 **데이터를 전처리**해야한다."
   ]
  },
  {
   "cell_type": "code",
   "execution_count": 1,
   "metadata": {},
   "outputs": [],
   "source": [
    "#데이터 불러들이기\n",
    "import os\n",
    "os.chdir('/Users/yongwan89/PycharmProjects/dataset')\n",
    "csv = pd.read_csv(\"bmi.csv\")"
   ]
  },
  {
   "cell_type": "markdown",
   "metadata": {},
   "source": [
    "   - 변수(input)에 해당하는 몸무게와 키 데이터를 전처리해준다."
   ]
  },
  {
   "cell_type": "code",
   "execution_count": 8,
   "metadata": {},
   "outputs": [],
   "source": [
    "# 몸무게와 키 데이터 정규화\n",
    "csv[\"weight\"] /= 100 #csv에서 'weight'열 추출해서 예상 최대치인 100kg으로 정규화\n",
    "csv[\"height\"] /= 200 #csv에서 'height'열 추출해서 예상 최대치인 200kg으로 정규화\n",
    "\n",
    "# 정규화된 몸무게와 키 데이터를 Nx2행렬로 만들기\n",
    "X = csv[[\"weight\", \"height\"]].as_matrix()\n",
    "'''csv[[\"weight\", \"height\"]]는 아래와 같이 나오기때문에 이 중 \"weight\", \"height\"만 추출해서 메트릭스 형태로 만들기.\n",
    "       weight  height\n",
    "0        0.62   0.710\n",
    "1        0.73   0.710\n",
    "2        0.61   0.885\n",
    "3        0.48   0.935\n",
    "4        0.60   0.765\n",
    "....'''"
   ]
  },
  {
   "cell_type": "markdown",
   "metadata": {},
   "source": [
    "- 레이블(output)을 전처리해준다.\n",
    "    - thin, normal, fat으로 한글로 되어있는 데이터를 0,1로 나타내주어야한다.\n",
    "    - 세 개의 클래스이니 각각 1열 3행 텐서로 변화시켜준다."
   ]
  },
  {
   "cell_type": "code",
   "execution_count": 18,
   "metadata": {},
   "outputs": [],
   "source": [
    "# 라벨(y) 전처리\n",
    "bmi_class = {\"thin\":[1,0,0], \"normal\":[0,1,0], \"fat\":[0,0,1]} # BMI 클래스들을 텐서로 설정\n",
    "y = np.empty((20000,3)) #2000x3로 된 0 행렬을 만들어서 20000개의 각 데이터의 라벨을 넣을 빈 셋을 만든다.\n",
    "\n",
    "for idx, label in enumerate(csv[\"label\"]): # 하나씩 y행렬에 넣어준다.\n",
    "    y[idx] = bmi_class[label]"
   ]
  },
  {
   "cell_type": "markdown",
   "metadata": {},
   "source": [
    "- 훈련데이터와 테스트 데이터로 나누기"
   ]
  },
  {
   "cell_type": "code",
   "execution_count": 27,
   "metadata": {},
   "outputs": [],
   "source": [
    "#총 20000개의 데이터중 15000개는 훈련데이터로 나머지 5000개는 테스트 데이터로 만든다\n",
    "X_train, y_train = X[1:15001], y[1:15001]\n",
    "X_test,  y_test  = X[15001:20001], y[15001:20001] "
   ]
  },
  {
   "cell_type": "markdown",
   "metadata": {},
   "source": [
    "### 2. 머신러닝 모델을 정의 및 구축"
   ]
  },
  {
   "cell_type": "markdown",
   "metadata": {},
   "source": [
    "- keras 패키지를 활용하여 모델을 정의한다."
   ]
  },
  {
   "cell_type": "code",
   "execution_count": 28,
   "metadata": {},
   "outputs": [],
   "source": [
    "# Sequential() class를 객체화해서 model 만들 준비를 한다.\n",
    "model = Sequential()\n",
    "# 1층\n",
    "model.add(Dense(512, input_shape=(2,)))\n",
    "model.add(Activation('relu')) # 활성함수 : relu function\n",
    "model.add(Dropout(0.1))   #ratio of drop out = 0.1\n",
    "# 2층\n",
    "model.add(Dense(512))\n",
    "model.add(Activation('relu'))\n",
    "model.add(Dropout(0.1))\n",
    "# 3층\n",
    "model.add(Dense(3))\n",
    "model.add(Activation('softmax'))  #다층 클래스이기 때문에 마지막엔 softmax함수로 활성화."
   ]
  },
  {
   "cell_type": "markdown",
   "metadata": {},
   "source": [
    "- 모델을 컴파일한다. "
   ]
  },
  {
   "cell_type": "code",
   "execution_count": 31,
   "metadata": {},
   "outputs": [],
   "source": [
    "# 모델 구축\n",
    "model.compile(\n",
    "    loss='categorical_crossentropy', # cost 함수를 cross entropy로 정의한다.\n",
    "    optimizer=\"rmsprop\",             # optimizer를 선택한다.\n",
    "    metrics=['accuracy'])"
   ]
  },
  {
   "cell_type": "markdown",
   "metadata": {},
   "source": [
    "### 3. 데이터 훈련 및 평가"
   ]
  },
  {
   "cell_type": "markdown",
   "metadata": {},
   "source": [
    "- 훈련데이터를 이용하여 머신을 훈련시킨다."
   ]
  },
  {
   "cell_type": "code",
   "execution_count": 34,
   "metadata": {},
   "outputs": [
    {
     "name": "stdout",
     "output_type": "stream",
     "text": [
      "Train on 13500 samples, validate on 1500 samples\n",
      "Epoch 1/20\n",
      "13500/13500 [==============================] - 1s 49us/step - loss: 0.1186 - acc: 0.9490 - val_loss: 0.1327 - val_acc: 0.9400\n",
      "Epoch 2/20\n",
      "13500/13500 [==============================] - 1s 48us/step - loss: 0.1175 - acc: 0.9495 - val_loss: 0.0579 - val_acc: 0.9860\n",
      "Epoch 3/20\n",
      "13500/13500 [==============================] - 1s 47us/step - loss: 0.1134 - acc: 0.9504 - val_loss: 0.2842 - val_acc: 0.8767\n",
      "Epoch 4/20\n",
      "13500/13500 [==============================] - 1s 47us/step - loss: 0.1148 - acc: 0.9498 - val_loss: 0.0574 - val_acc: 0.9893\n",
      "Epoch 5/20\n",
      "13500/13500 [==============================] - 1s 50us/step - loss: 0.1090 - acc: 0.9543 - val_loss: 0.0533 - val_acc: 0.9867\n",
      "Epoch 6/20\n",
      "13500/13500 [==============================] - 1s 48us/step - loss: 0.1070 - acc: 0.9526 - val_loss: 0.0757 - val_acc: 0.9680\n",
      "Epoch 7/20\n",
      "13500/13500 [==============================] - 1s 51us/step - loss: 0.1060 - acc: 0.9555 - val_loss: 0.0520 - val_acc: 0.9840\n",
      "Epoch 8/20\n",
      "13500/13500 [==============================] - 1s 48us/step - loss: 0.1069 - acc: 0.9530 - val_loss: 0.0494 - val_acc: 0.9853\n",
      "Epoch 9/20\n",
      "13500/13500 [==============================] - 1s 48us/step - loss: 0.1019 - acc: 0.9553 - val_loss: 0.0526 - val_acc: 0.9807\n",
      "Epoch 10/20\n",
      "13500/13500 [==============================] - 1s 48us/step - loss: 0.1030 - acc: 0.9559 - val_loss: 0.0715 - val_acc: 0.9667\n"
     ]
    }
   ],
   "source": [
    "# 데이터 훈련\n",
    "hist = model.fit(\n",
    "    X_train, y_train,\n",
    "    batch_size=100,\n",
    "    epochs=20,\n",
    "    validation_split=0.1,\n",
    "    callbacks=[EarlyStopping(monitor='val_loss', patience=2)],\n",
    "    verbose=1)"
   ]
  },
  {
   "cell_type": "markdown",
   "metadata": {},
   "source": [
    "- 테스트 데이터로 머신러닝 테스트"
   ]
  },
  {
   "cell_type": "code",
   "execution_count": 35,
   "metadata": {},
   "outputs": [
    {
     "name": "stdout",
     "output_type": "stream",
     "text": [
      "4999/4999 [==============================] - 0s 25us/step\n",
      "loss= 0.07589212138370457\n",
      "accuracy= 0.9643928785876384\n"
     ]
    }
   ],
   "source": [
    "# 평가\n",
    "score = model.evaluate(X_test, y_test)\n",
    "print('loss=', score[0])\n",
    "print('accuracy=', score[1])"
   ]
  },
  {
   "cell_type": "markdown",
   "metadata": {},
   "source": [
    "# 훈련 머신으로 사용자의 BMI를 측정해주는 프로그램"
   ]
  },
  {
   "cell_type": "code",
   "execution_count": 73,
   "metadata": {},
   "outputs": [
    {
     "name": "stdout",
     "output_type": "stream",
     "text": [
      "몸무게(kg)를 넣어주세요. : 75\n",
      "키(cm)를 넣어주세요. : 182\n",
      "BMI 결과 정상 체형이 나왔습니다. 이 상태를 유지하세요!\n"
     ]
    }
   ],
   "source": [
    "# 몸무게와 키를 입력받기\n",
    "weight_new = int(input(\"몸무게(kg)를 넣어주세요. : \"))\n",
    "height_new = int(input(\"키(cm)를 넣어주세요. : \"))\n",
    "\n",
    "# 훈련된 머신으로 예측\n",
    "pred = model.predict(np.array([[weight_new/100 , height_new/200]])) #array로 바꿔주는게 중요!!\n",
    "pred_argmax = np.argmax(pred)\n",
    "\n",
    "# 결과 출력.\n",
    "if pred_argmax == np.argmax(bmi_class['thin']):\n",
    "    print('BMI 결과 마른 체형이 나왔습니다. 많이 드시고 운동하시길 바랍니다!')\n",
    "elif pred_argmax == np.argmax(bmi_class['normal']):\n",
    "    print('BMI 결과 정상 체형이 나왔습니다. 이 상태를 유지하세요!')\n",
    "elif pred_argmax == np.argmax(bmi_class['fat']):\n",
    "    print('BMI 결과 뚱뚱한 체형이 나왔습니다. 다이어트를 하셔야겠어요!')\n",
    "else:\n",
    "    print('에러가 났습니다. 다시 입력해주세요.')"
   ]
  },
  {
   "cell_type": "code",
   "execution_count": null,
   "metadata": {},
   "outputs": [],
   "source": []
  }
 ],
 "metadata": {
  "kernelspec": {
   "display_name": "Python 3",
   "language": "python",
   "name": "python3"
  },
  "language_info": {
   "codemirror_mode": {
    "name": "ipython",
    "version": 3
   },
   "file_extension": ".py",
   "mimetype": "text/x-python",
   "name": "python",
   "nbconvert_exporter": "python",
   "pygments_lexer": "ipython3",
   "version": "3.6.5"
  }
 },
 "nbformat": 4,
 "nbformat_minor": 2
}
