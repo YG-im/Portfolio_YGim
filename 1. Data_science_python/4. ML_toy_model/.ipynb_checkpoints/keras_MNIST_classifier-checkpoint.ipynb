{
 "cells": [
  {
   "cell_type": "markdown",
   "metadata": {},
   "source": [
    "# kera 패키지로 MNIST 손글씨 데이터 분류 ML\n",
    "- MNIST 손글씨 데이터를 분류하는 머신러닝을 keras 패키지를 활용하여 규현한 프로그램입니다."
   ]
  },
  {
   "cell_type": "code",
   "execution_count": 7,
   "metadata": {},
   "outputs": [
    {
     "name": "stderr",
     "output_type": "stream",
     "text": [
      "Using TensorFlow backend.\n"
     ]
    }
   ],
   "source": [
    "# import pakages \n",
    "from keras.datasets import mnist\n",
    "from keras.models import Sequential\n",
    "from keras.layers.core import Dense, Dropout, Activation\n",
    "from keras.optimizers import Adam \n",
    "from keras.utils import np_utils"
   ]
  },
  {
   "cell_type": "code",
   "execution_count": 8,
   "metadata": {},
   "outputs": [],
   "source": [
    "import numpy as np\n",
    "import random as rd"
   ]
  },
  {
   "cell_type": "markdown",
   "metadata": {},
   "source": [
    "- MNIST 데이터 로드"
   ]
  },
  {
   "cell_type": "code",
   "execution_count": 9,
   "metadata": {},
   "outputs": [],
   "source": [
    "import os\n",
    "os.chdir('/Users/yongwan89/PycharmProjects/dataset')"
   ]
  },
  {
   "cell_type": "code",
   "execution_count": 10,
   "metadata": {
    "scrolled": true
   },
   "outputs": [],
   "source": [
    "(X_train, y_train), (X_test, y_test) = mnist.load_data('MNIST_data')"
   ]
  },
  {
   "cell_type": "markdown",
   "metadata": {},
   "source": [
    "- 데이터 전처리 : 자료형 변환 및 정규화"
   ]
  },
  {
   "cell_type": "code",
   "execution_count": 16,
   "metadata": {},
   "outputs": [],
   "source": [
    "# 데이터 자료형 변환\n",
    "X_train = X_train.reshape(60000, 784).astype('float32') #float32자료형으로 바꾸기\n",
    "X_test  = X_test.reshape(10000, 784).astype('float')\n",
    "# 데이터 정규화\n",
    "X_train /= 255\n",
    "X_test  /= 255\n",
    "\n",
    "# 라벨 데이터 재배열 : 0~9까지의 10개의 카테고리\n",
    "y_train = np_utils.to_categorical(y_train, 10)\n",
    "y_test  = np_utils.to_categorical(y_test, 10)"
   ]
  },
  {
   "cell_type": "markdown",
   "metadata": {},
   "source": [
    "- keras로 머신러닝 모델 구조 정의"
   ]
  },
  {
   "cell_type": "code",
   "execution_count": 17,
   "metadata": {},
   "outputs": [],
   "source": [
    "# 모델 구조 정의\n",
    "model = Sequential()\n",
    "# 1층\n",
    "model.add(Dense(512, input_shape=(784,))) #28*28=784 열\n",
    "model.add(Activation('relu')) # 활성함수 = relu function\n",
    "model.add(Dropout(0.2))  #ratio of drop out = 0.2\n",
    "# 2층\n",
    "model.add(Dense(512))\n",
    "model.add(Activation('relu'))\n",
    "model.add(Dropout(0.2))\n",
    "# 3층\n",
    "model.add(Dense(10))\n",
    "model.add(Activation('softmax')) #멀티 클래스이기때문에 마지막은 softmax로 활성화"
   ]
  },
  {
   "cell_type": "markdown",
   "metadata": {},
   "source": [
    "- 머신러닝 모델 컴파일"
   ]
  },
  {
   "cell_type": "code",
   "execution_count": 18,
   "metadata": {},
   "outputs": [],
   "source": [
    "# 모델 구축\n",
    "model.compile(\n",
    "    loss='categorical_crossentropy',\n",
    "    optimizer=Adam(),  #optimizer는 Adam으로.\n",
    "    metrics=['accuracy'])"
   ]
  },
  {
   "cell_type": "markdown",
   "metadata": {},
   "source": [
    "- 머신러닝 훈련 및 평가하기"
   ]
  },
  {
   "cell_type": "code",
   "execution_count": 20,
   "metadata": {},
   "outputs": [
    {
     "name": "stdout",
     "output_type": "stream",
     "text": [
      "Epoch 1/2\n",
      "60000/60000 [==============================] - 15s 242us/step - loss: 0.1051 - acc: 0.9682\n",
      "Epoch 2/2\n",
      "60000/60000 [==============================] - 14s 241us/step - loss: 0.0808 - acc: 0.9742\n",
      "10000/10000 [==============================] - 0s 39us/step\n",
      "loss= 0.08150914715670515\n",
      "accuracy= 0.9752\n"
     ]
    }
   ],
   "source": [
    "# 훈련\n",
    "hist = model.fit(X_train, y_train, epochs=2)\n",
    "\n",
    "# 평가\n",
    "score = model.evaluate(X_test, y_test, verbose=1)\n",
    "print('loss=', score[0])\n",
    "print('accuracy=', score[1])"
   ]
  },
  {
   "cell_type": "code",
   "execution_count": 51,
   "metadata": {
    "scrolled": true
   },
   "outputs": [
    {
     "data": {
      "text/plain": [
       "4"
      ]
     },
     "execution_count": 51,
     "metadata": {},
     "output_type": "execute_result"
    }
   ],
   "source": [
    "# test set에서 임의로 하나 뽑아서 예측해보기\n",
    "rd_num = rd.randint(0, np.shape(X_test)[0] - 1) # test set에서 임의로 하나 추출\n",
    "pred = model.predict(np.array([X_test[rd_num]]))\n",
    "np.argmax(pred)"
   ]
  },
  {
   "cell_type": "code",
   "execution_count": 57,
   "metadata": {},
   "outputs": [
    {
     "data": {
      "text/plain": [
       "4"
      ]
     },
     "execution_count": 57,
     "metadata": {},
     "output_type": "execute_result"
    }
   ],
   "source": [
    "# 결과 확인\n",
    "np.argmax(y_test[rd_num])"
   ]
  }
 ],
 "metadata": {
  "kernelspec": {
   "display_name": "Python 3",
   "language": "python",
   "name": "python3"
  },
  "language_info": {
   "codemirror_mode": {
    "name": "ipython",
    "version": 3
   },
   "file_extension": ".py",
   "mimetype": "text/x-python",
   "name": "python",
   "nbconvert_exporter": "python",
   "pygments_lexer": "ipython3",
   "version": "3.6.5"
  }
 },
 "nbformat": 4,
 "nbformat_minor": 2
}
