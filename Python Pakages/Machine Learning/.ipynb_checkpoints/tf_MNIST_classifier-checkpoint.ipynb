{
 "cells": [
  {
   "cell_type": "markdown",
   "metadata": {},
   "source": [
    "# MNIST 손글씨 데이터 분류기"
   ]
  },
  {
   "cell_type": "code",
   "execution_count": 2,
   "metadata": {},
   "outputs": [
    {
     "name": "stdout",
     "output_type": "stream",
     "text": [
      "Once deleted, variables cannot be recovered. Proceed (y/[n])? y\n"
     ]
    }
   ],
   "source": [
    "%reset"
   ]
  },
  {
   "cell_type": "code",
   "execution_count": 8,
   "metadata": {},
   "outputs": [],
   "source": [
    "# tensorflow, matplotlib의 pyplot, random을 불러온다\n",
    "import tensorflow as tf\n",
    "import matplotlib.pyplot as plt\n",
    "import random  #train set으로 검증할 때 샘플을 랜덤하게 뽑아내기위해 필요\n",
    "from tensorflow.examples.tutorials.mnist import input_data #MNIST 데이터 불러올때 필요한 패키지 데이터 전처리 해줌."
   ]
  },
  {
   "cell_type": "code",
   "execution_count": 6,
   "metadata": {},
   "outputs": [],
   "source": [
    "tf.set_random_seed(777)  # for reproducibility"
   ]
  },
  {
   "cell_type": "code",
   "execution_count": 9,
   "metadata": {},
   "outputs": [
    {
     "name": "stdout",
     "output_type": "stream",
     "text": [
      "Extracting MNIST_data/train-images-idx3-ubyte.gz\n",
      "Extracting MNIST_data/train-labels-idx1-ubyte.gz\n",
      "Extracting MNIST_data/t10k-images-idx3-ubyte.gz\n",
      "Extracting MNIST_data/t10k-labels-idx1-ubyte.gz\n"
     ]
    }
   ],
   "source": [
    "mnist = input_data.read_data_sets(\"MNIST_data/\", one_hot=True) \n",
    "# one_hot을 True로 해주면 데이터를 one_hot으로 바꾸는 별도의 작업이 필요없음."
   ]
  },
  {
   "cell_type": "code",
   "execution_count": 10,
   "metadata": {},
   "outputs": [],
   "source": [
    "nb_classes = 10  #숫자가 0부터 9까지 이기 때문에 10개. 추후에 클래스 지정에 쓰임."
   ]
  },
  {
   "cell_type": "code",
   "execution_count": 12,
   "metadata": {},
   "outputs": [],
   "source": [
    "# MNIST 데이터가 28x28 = 784이기 때문에 입력값은 열은 784로 고정.\n",
    "X = tf.placeholder(tf.float32, [None, 784])\n",
    "# 분류해야할 숫자가 0부터 9까지이기때문에 클래스 수를 10개로 고정.\n",
    "Y = tf.placeholder(tf.float32, [None, nb_classes])\n",
    "\n",
    "# 단층 레이어로 만듦. X에 곱해지는 weight는 784행 10열 텐서로 설정.\n",
    "W = tf.Variable(tf.random_normal([784, nb_classes]))\n",
    "# bias는 1행 10열 텐서로 만들어놓으면 파이썬의 broadcasting에 의해서 일괄적용.\n",
    "b = tf.Variable(tf.random_normal([nb_classes]))\n",
    "# dropout (keep_prob) rate :\n",
    "# 보통 훈련시 0.7로 한다. 엣지 중 30%를 버리는것. 예측할때는 1로 설정해야한다.\n",
    "keep_prob = tf.placeholder(tf.float32)"
   ]
  },
  {
   "cell_type": "code",
   "execution_count": 13,
   "metadata": {},
   "outputs": [],
   "source": [
    "# multi class로 분류하는 것이기 때문에 sigmoid함수가 아닌 softmax함수를 이용한다.\n",
    "hypothesis = tf.nn.softmax(tf.matmul(X, W) + b)\n",
    "# drop out :\n",
    "# 깊게 레이어가 쌓여지면 오버피팅이 발생함. 그래서 dropout은 오버피팅을 막기위하여 랜덤하게 부분부분만 사용해서 훈련시키는거.\n",
    "hypothesis = tf.nn.dropout(hypothesis, keep_prob=keep_prob) \n",
    "\n",
    "# cost entroy를 이용하여 cost 함수 정의.\n",
    "cost = tf.reduce_mean(-tf.reduce_sum(Y * tf.log(hypothesis), axis=1)) \n",
    "# GD를 활용한 최적화. learning_rate = 0.1\n",
    "train = tf.train.GradientDescentOptimizer(learning_rate=0.1).minimize(cost) "
   ]
  },
  {
   "cell_type": "code",
   "execution_count": 14,
   "metadata": {},
   "outputs": [],
   "source": [
    "# 추후 test set을 이용해서 테스트.\n",
    "is_correct = tf.equal(tf.argmax(hypothesis, 1), tf.argmax(Y, 1))\n",
    "'머신을 통해 나온 예측값인 tf.argmax(hypothesis, 1)와 정답값인 tf.argmax(Y, 1)를 비교하여 같은지 비교.'\n",
    "# 정확도 계산\n",
    "accuracy = tf.reduce_mean(tf.cast(is_correct, tf.float32))"
   ]
  },
  {
   "cell_type": "code",
   "execution_count": 15,
   "metadata": {},
   "outputs": [],
   "source": [
    "# parameters\n",
    "num_epochs = 15 # 전 데이터 set을 한번 다 학습시킨 것.\n",
    "batch_size = 100   #한 번에 몇개씩 학습시킬 것인가. 너무 많은 데이터를 가지고 학습하면 메모리가 부족함. 그래서 100개씩 만 가져와서 학습.\n",
    "num_iterations = int(mnist.train.num_examples / batch_size)"
   ]
  },
  {
   "cell_type": "code",
   "execution_count": 19,
   "metadata": {},
   "outputs": [
    {
     "name": "stdout",
     "output_type": "stream",
     "text": [
      "Epoch: 0001, Cost: 2.741000463\n",
      "Epoch: 0002, Cost: 1.088638805\n",
      "Epoch: 0003, Cost: 0.869194318\n",
      "Epoch: 0004, Cost: 0.761807203\n",
      "Epoch: 0005, Cost: 0.693591120\n",
      "Epoch: 0006, Cost: 0.644675890\n",
      "Epoch: 0007, Cost: 0.607970518\n",
      "Epoch: 0008, Cost: 0.578426129\n",
      "Epoch: 0009, Cost: 0.553892451\n",
      "Epoch: 0010, Cost: 0.533402676\n",
      "Epoch: 0011, Cost: 0.515918421\n",
      "Epoch: 0012, Cost: 0.500657689\n",
      "Epoch: 0013, Cost: 0.487237539\n",
      "Epoch: 0014, Cost: 0.474644798\n",
      "Epoch: 0015, Cost: 0.464387354\n",
      "Learning finished\n"
     ]
    }
   ],
   "source": [
    "# training set으로 머신러닝 훈련시키기\n",
    "\n",
    "sess = tf.Session()\n",
    "\n",
    "# Initialize TensorFlow variables\n",
    "sess.run(tf.global_variables_initializer()) \n",
    "\n",
    "# Training cycle : 훈련시키는 프로세스\n",
    "for epoch in range(num_epochs):\n",
    "    avg_cost = 0\n",
    "\n",
    "    for i in range(num_iterations):\n",
    "        batch_xs, batch_ys = mnist.train.next_batch(batch_size)\n",
    "        _, cost_val = sess.run([train, cost], feed_dict={X: batch_xs, Y: batch_ys, keep_prob: 1}) #단층이라 1로 설정. 보통 drop out = 0.7\n",
    "        avg_cost += cost_val / num_iterations\n",
    "\n",
    "    print(\"Epoch: {:04d}, Cost: {:.9f}\".format(epoch + 1, avg_cost))\n",
    "\n",
    "#훈련이 끝나면 \"Learning finished\" 출력\n",
    "print(\"Learning finished\")"
   ]
  },
  {
   "cell_type": "code",
   "execution_count": 21,
   "metadata": {},
   "outputs": [
    {
     "name": "stdout",
     "output_type": "stream",
     "text": [
      "Accuracy:  0.8912\n"
     ]
    }
   ],
   "source": [
    "# test sets으로 훈련된 머신의 정확도 확인\n",
    "print(\n",
    "    \"Accuracy: \",\n",
    "    accuracy.eval(  #accuracy.eval(...) = sess.run(...)\n",
    "        session=sess, feed_dict={X: mnist.test.images, Y: mnist.test.labels, keep_prob: 1}   #학습이 잘 되었는지 보기위해 test set으로 돌린다.\n",
    "    ),\n",
    ")"
   ]
  },
  {
   "cell_type": "code",
   "execution_count": 23,
   "metadata": {},
   "outputs": [
    {
     "name": "stdout",
     "output_type": "stream",
     "text": [
      "Label:  [5]\n",
      "Prediction:  [5]\n"
     ]
    },
    {
     "data": {
      "image/png": "[encoded data removed]",
      "text/plain": [
       "<matplotlib.figure.Figure at 0x1c37d60a90>"
      ]
     },
     "metadata": {},
     "output_type": "display_data"
    }
   ],
   "source": [
    "# Get one and predict\n",
    "r = random.randint(0, mnist.test.num_examples - 1)  #랜덤으로 숫자하나 읽어와서 테스트\n",
    "print(\"Label: \", sess.run(tf.argmax(mnist.test.labels[r : r + 1], 1)))\n",
    "print(\n",
    "   \"Prediction: \",\n",
    "    sess.run(tf.argmax(hypothesis, 1), feed_dict={X: mnist.test.images[r : r + 1], keep_prob: 1}),\n",
    ")\n",
    "\n",
    "plt.imshow(\n",
    "    mnist.test.images[r : r + 1].reshape(28, 28),\n",
    "    cmap=\"Greys\",\n",
    "    interpolation=\"nearest\",\n",
    ")\n",
    "plt.show()"
   ]
  },
  {
   "cell_type": "code",
   "execution_count": null,
   "metadata": {},
   "outputs": [],
   "source": []
  }
 ],
 "metadata": {
  "kernelspec": {
   "display_name": "Python 3",
   "language": "python",
   "name": "python3"
  },
  "language_info": {
   "codemirror_mode": {
    "name": "ipython",
    "version": 3
   },
   "file_extension": ".py",
   "mimetype": "text/x-python",
   "name": "python",
   "nbconvert_exporter": "python",
   "pygments_lexer": "ipython3",
   "version": "3.6.8"
  }
 },
 "nbformat": 4,
 "nbformat_minor": 2
}
