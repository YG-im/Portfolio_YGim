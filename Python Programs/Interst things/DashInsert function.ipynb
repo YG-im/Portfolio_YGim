{
 "cells": [
  {
   "cell_type": "markdown",
   "metadata": {},
   "source": [
    "# DashInsert 함수"
   ]
  },
  {
   "cell_type": "markdown",
   "metadata": {},
   "source": [
    "- DashInsert 함수는 숫자로 구성된 문자열을 입력받은 뒤, 문자열 내에서 홀수가 연속되면 두 수 사이에 - 를 추가하고, 짝수가 연속되면 \\* 를 추가하는 기능을 갖고 있다. (예, 454 => 454, 4546793 => 454\\*67-9-3)\n",
    "\n",
    "- 입력 : 화면에서 숫자로 된 문자열을 입력받는다.\n",
    "4546793\n",
    "- 출력 : \\*, -가 적절히 추가된 문자열을 화면에 출력한다.\n",
    "454\\*67-9-3"
   ]
  },
  {
   "cell_type": "code",
   "execution_count": 9,
   "metadata": {},
   "outputs": [],
   "source": [
    "def DashInsert(a):\n",
    "    a_str = str(a)   # 숫자로 받은 값을 indexing을 위해서 string으로 변환.\n",
    "    a_mod = ''       # 비어있는 string.\n",
    "    for i in range(len(a_str)) : # a의 값들을 하나씩 불러낸다.\n",
    "        if i == len(a_str)-1 :   # a의 마지막 값까지 오면 \\*도 -도 안붙일 것이기때문에 기대로 끝.\n",
    "            a_mod += a_str[i]    # a_mod에 추가\n",
    "        elif int(a_str[i])%2 == 0 and int(a_str[i+1])%2 == 0 : # a_str[i]과 그 다음 것이 짝수인지 체크.\n",
    "            a_mod = a_mod + a_str[i] + '*'                     # 그렇다면 \\*붙이기\n",
    "        elif int(a_str[i])%2 == 1 and int(a_str[i+1])%2 == 1 : # a_str[i]과 그 다음 것이 홀수인지 체크.\n",
    "            a_mod = a_mod + a_str[i] + '-'                     # 그렇다면 -붙이기\n",
    "        else :\n",
    "            a_mod = a_mod + a_str[i]                           # 나머지 경우엔 그냥 붙여넣기\n",
    "    return a_mod   #a_mod출력"
   ]
  },
  {
   "cell_type": "code",
   "execution_count": 10,
   "metadata": {},
   "outputs": [
    {
     "data": {
      "text/plain": [
       "'1-34*236*2*61-34'"
      ]
     },
     "execution_count": 10,
     "metadata": {},
     "output_type": "execute_result"
    }
   ],
   "source": [
    "DashInsert(13423626134)"
   ]
  },
  {
   "cell_type": "code",
   "execution_count": null,
   "metadata": {},
   "outputs": [],
   "source": []
  }
 ],
 "metadata": {
  "kernelspec": {
   "display_name": "Python 3",
   "language": "python",
   "name": "python3"
  },
  "language_info": {
   "codemirror_mode": {
    "name": "ipython",
    "version": 3
   },
   "file_extension": ".py",
   "mimetype": "text/x-python",
   "name": "python",
   "nbconvert_exporter": "python",
   "pygments_lexer": "ipython3",
   "version": "3.6.8"
  }
 },
 "nbformat": 4,
 "nbformat_minor": 2
}
